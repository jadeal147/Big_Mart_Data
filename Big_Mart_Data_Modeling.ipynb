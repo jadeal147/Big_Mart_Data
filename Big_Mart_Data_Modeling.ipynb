{
 "cells": [
  {
   "cell_type": "markdown",
   "metadata": {},
   "source": [
    "## Modeling Section\n"
   ]
  },
  {
   "cell_type": "code",
   "execution_count": 1,
   "metadata": {},
   "outputs": [],
   "source": [
    "import pandas as pd\n",
    "import numpy as np\n",
    "import matplotlib.pyplot as plt\n",
    "\n",
    "from scipy import stats\n",
    "import random\n",
    "import os\n",
    "#load python packages\n",
    "\n",
    "import datetime\n",
    "import seaborn as sns\n",
    "\n",
    "%matplotlib inline\n",
    "\n",
    "from sklearn.model_selection import train_test_split\n",
    "from sklearn.tree import DecisionTreeClassifier\n",
    "from sklearn import tree, metrics"
   ]
  },
  {
   "cell_type": "code",
   "execution_count": 4,
   "metadata": {},
   "outputs": [],
   "source": [
    "df = pd.read_csv('BigMartModelData.csv')\n",
    "pd.options.display.max_columns = None"
   ]
  },
  {
   "cell_type": "code",
   "execution_count": 67,
   "metadata": {},
   "outputs": [
    {
     "data": {
      "text/html": [
       "<div>\n",
       "<style scoped>\n",
       "    .dataframe tbody tr th:only-of-type {\n",
       "        vertical-align: middle;\n",
       "    }\n",
       "\n",
       "    .dataframe tbody tr th {\n",
       "        vertical-align: top;\n",
       "    }\n",
       "\n",
       "    .dataframe thead th {\n",
       "        text-align: right;\n",
       "    }\n",
       "</style>\n",
       "<table border=\"1\" class=\"dataframe\">\n",
       "  <thead>\n",
       "    <tr style=\"text-align: right;\">\n",
       "      <th></th>\n",
       "      <th>Unnamed: 0</th>\n",
       "      <th>Category_Id</th>\n",
       "      <th>Order_Region_Caribbean</th>\n",
       "      <th>Order_Region_Central Africa</th>\n",
       "      <th>Order_Region_Central America</th>\n",
       "      <th>Order_Region_Central Asia</th>\n",
       "      <th>Order_Region_East Africa</th>\n",
       "      <th>Order_Region_East of USA</th>\n",
       "      <th>Order_Region_Eastern Asia</th>\n",
       "      <th>Order_Region_Eastern Europe</th>\n",
       "      <th>Order_Region_North Africa</th>\n",
       "      <th>Order_Region_Northern Europe</th>\n",
       "      <th>Order_Region_Oceania</th>\n",
       "      <th>Order_Region_South America</th>\n",
       "      <th>Order_Region_South Asia</th>\n",
       "      <th>Order_Region_South of  USA</th>\n",
       "      <th>Order_Region_Southeast Asia</th>\n",
       "      <th>Order_Region_Southern Africa</th>\n",
       "      <th>Order_Region_Southern Europe</th>\n",
       "      <th>Order_Region_US Center</th>\n",
       "      <th>Order_Region_West Africa</th>\n",
       "      <th>Order_Region_West Asia</th>\n",
       "      <th>Order_Region_West of USA</th>\n",
       "      <th>Order_Region_Western Europe</th>\n",
       "      <th>Shipping_Mode_First Class</th>\n",
       "      <th>Shipping_Mode_Same Day</th>\n",
       "      <th>Shipping_Mode_Second Class</th>\n",
       "      <th>Shipping_Mode_Standard Class</th>\n",
       "    </tr>\n",
       "  </thead>\n",
       "  <tbody>\n",
       "    <tr>\n",
       "      <th>0</th>\n",
       "      <td>0</td>\n",
       "      <td>73</td>\n",
       "      <td>0</td>\n",
       "      <td>0</td>\n",
       "      <td>0</td>\n",
       "      <td>0</td>\n",
       "      <td>0</td>\n",
       "      <td>0</td>\n",
       "      <td>0</td>\n",
       "      <td>0</td>\n",
       "      <td>0</td>\n",
       "      <td>0</td>\n",
       "      <td>0</td>\n",
       "      <td>0</td>\n",
       "      <td>0</td>\n",
       "      <td>0</td>\n",
       "      <td>1</td>\n",
       "      <td>0</td>\n",
       "      <td>0</td>\n",
       "      <td>0</td>\n",
       "      <td>0</td>\n",
       "      <td>0</td>\n",
       "      <td>0</td>\n",
       "      <td>0</td>\n",
       "      <td>0</td>\n",
       "      <td>0</td>\n",
       "      <td>0</td>\n",
       "      <td>1</td>\n",
       "    </tr>\n",
       "    <tr>\n",
       "      <th>1</th>\n",
       "      <td>3</td>\n",
       "      <td>73</td>\n",
       "      <td>0</td>\n",
       "      <td>0</td>\n",
       "      <td>0</td>\n",
       "      <td>0</td>\n",
       "      <td>0</td>\n",
       "      <td>0</td>\n",
       "      <td>0</td>\n",
       "      <td>0</td>\n",
       "      <td>0</td>\n",
       "      <td>0</td>\n",
       "      <td>1</td>\n",
       "      <td>0</td>\n",
       "      <td>0</td>\n",
       "      <td>0</td>\n",
       "      <td>0</td>\n",
       "      <td>0</td>\n",
       "      <td>0</td>\n",
       "      <td>0</td>\n",
       "      <td>0</td>\n",
       "      <td>0</td>\n",
       "      <td>0</td>\n",
       "      <td>0</td>\n",
       "      <td>0</td>\n",
       "      <td>0</td>\n",
       "      <td>0</td>\n",
       "      <td>1</td>\n",
       "    </tr>\n",
       "    <tr>\n",
       "      <th>2</th>\n",
       "      <td>6</td>\n",
       "      <td>73</td>\n",
       "      <td>0</td>\n",
       "      <td>0</td>\n",
       "      <td>0</td>\n",
       "      <td>0</td>\n",
       "      <td>0</td>\n",
       "      <td>0</td>\n",
       "      <td>1</td>\n",
       "      <td>0</td>\n",
       "      <td>0</td>\n",
       "      <td>0</td>\n",
       "      <td>0</td>\n",
       "      <td>0</td>\n",
       "      <td>0</td>\n",
       "      <td>0</td>\n",
       "      <td>0</td>\n",
       "      <td>0</td>\n",
       "      <td>0</td>\n",
       "      <td>0</td>\n",
       "      <td>0</td>\n",
       "      <td>0</td>\n",
       "      <td>0</td>\n",
       "      <td>0</td>\n",
       "      <td>1</td>\n",
       "      <td>0</td>\n",
       "      <td>0</td>\n",
       "      <td>0</td>\n",
       "    </tr>\n",
       "    <tr>\n",
       "      <th>3</th>\n",
       "      <td>13</td>\n",
       "      <td>73</td>\n",
       "      <td>0</td>\n",
       "      <td>0</td>\n",
       "      <td>0</td>\n",
       "      <td>0</td>\n",
       "      <td>0</td>\n",
       "      <td>0</td>\n",
       "      <td>0</td>\n",
       "      <td>0</td>\n",
       "      <td>0</td>\n",
       "      <td>0</td>\n",
       "      <td>0</td>\n",
       "      <td>0</td>\n",
       "      <td>1</td>\n",
       "      <td>0</td>\n",
       "      <td>0</td>\n",
       "      <td>0</td>\n",
       "      <td>0</td>\n",
       "      <td>0</td>\n",
       "      <td>0</td>\n",
       "      <td>0</td>\n",
       "      <td>0</td>\n",
       "      <td>0</td>\n",
       "      <td>1</td>\n",
       "      <td>0</td>\n",
       "      <td>0</td>\n",
       "      <td>0</td>\n",
       "    </tr>\n",
       "    <tr>\n",
       "      <th>4</th>\n",
       "      <td>15</td>\n",
       "      <td>73</td>\n",
       "      <td>0</td>\n",
       "      <td>0</td>\n",
       "      <td>0</td>\n",
       "      <td>0</td>\n",
       "      <td>0</td>\n",
       "      <td>0</td>\n",
       "      <td>0</td>\n",
       "      <td>0</td>\n",
       "      <td>0</td>\n",
       "      <td>0</td>\n",
       "      <td>0</td>\n",
       "      <td>0</td>\n",
       "      <td>1</td>\n",
       "      <td>0</td>\n",
       "      <td>0</td>\n",
       "      <td>0</td>\n",
       "      <td>0</td>\n",
       "      <td>0</td>\n",
       "      <td>0</td>\n",
       "      <td>0</td>\n",
       "      <td>0</td>\n",
       "      <td>0</td>\n",
       "      <td>1</td>\n",
       "      <td>0</td>\n",
       "      <td>0</td>\n",
       "      <td>0</td>\n",
       "    </tr>\n",
       "    <tr>\n",
       "      <th>...</th>\n",
       "      <td>...</td>\n",
       "      <td>...</td>\n",
       "      <td>...</td>\n",
       "      <td>...</td>\n",
       "      <td>...</td>\n",
       "      <td>...</td>\n",
       "      <td>...</td>\n",
       "      <td>...</td>\n",
       "      <td>...</td>\n",
       "      <td>...</td>\n",
       "      <td>...</td>\n",
       "      <td>...</td>\n",
       "      <td>...</td>\n",
       "      <td>...</td>\n",
       "      <td>...</td>\n",
       "      <td>...</td>\n",
       "      <td>...</td>\n",
       "      <td>...</td>\n",
       "      <td>...</td>\n",
       "      <td>...</td>\n",
       "      <td>...</td>\n",
       "      <td>...</td>\n",
       "      <td>...</td>\n",
       "      <td>...</td>\n",
       "      <td>...</td>\n",
       "      <td>...</td>\n",
       "      <td>...</td>\n",
       "      <td>...</td>\n",
       "    </tr>\n",
       "    <tr>\n",
       "      <th>59486</th>\n",
       "      <td>180500</td>\n",
       "      <td>45</td>\n",
       "      <td>0</td>\n",
       "      <td>0</td>\n",
       "      <td>0</td>\n",
       "      <td>0</td>\n",
       "      <td>0</td>\n",
       "      <td>0</td>\n",
       "      <td>0</td>\n",
       "      <td>0</td>\n",
       "      <td>0</td>\n",
       "      <td>0</td>\n",
       "      <td>1</td>\n",
       "      <td>0</td>\n",
       "      <td>0</td>\n",
       "      <td>0</td>\n",
       "      <td>0</td>\n",
       "      <td>0</td>\n",
       "      <td>0</td>\n",
       "      <td>0</td>\n",
       "      <td>0</td>\n",
       "      <td>0</td>\n",
       "      <td>0</td>\n",
       "      <td>0</td>\n",
       "      <td>0</td>\n",
       "      <td>0</td>\n",
       "      <td>0</td>\n",
       "      <td>1</td>\n",
       "    </tr>\n",
       "    <tr>\n",
       "      <th>59487</th>\n",
       "      <td>180505</td>\n",
       "      <td>45</td>\n",
       "      <td>0</td>\n",
       "      <td>0</td>\n",
       "      <td>0</td>\n",
       "      <td>0</td>\n",
       "      <td>0</td>\n",
       "      <td>0</td>\n",
       "      <td>1</td>\n",
       "      <td>0</td>\n",
       "      <td>0</td>\n",
       "      <td>0</td>\n",
       "      <td>0</td>\n",
       "      <td>0</td>\n",
       "      <td>0</td>\n",
       "      <td>0</td>\n",
       "      <td>0</td>\n",
       "      <td>0</td>\n",
       "      <td>0</td>\n",
       "      <td>0</td>\n",
       "      <td>0</td>\n",
       "      <td>0</td>\n",
       "      <td>0</td>\n",
       "      <td>0</td>\n",
       "      <td>0</td>\n",
       "      <td>0</td>\n",
       "      <td>0</td>\n",
       "      <td>1</td>\n",
       "    </tr>\n",
       "    <tr>\n",
       "      <th>59488</th>\n",
       "      <td>180508</td>\n",
       "      <td>45</td>\n",
       "      <td>0</td>\n",
       "      <td>0</td>\n",
       "      <td>0</td>\n",
       "      <td>0</td>\n",
       "      <td>0</td>\n",
       "      <td>0</td>\n",
       "      <td>1</td>\n",
       "      <td>0</td>\n",
       "      <td>0</td>\n",
       "      <td>0</td>\n",
       "      <td>0</td>\n",
       "      <td>0</td>\n",
       "      <td>0</td>\n",
       "      <td>0</td>\n",
       "      <td>0</td>\n",
       "      <td>0</td>\n",
       "      <td>0</td>\n",
       "      <td>0</td>\n",
       "      <td>0</td>\n",
       "      <td>0</td>\n",
       "      <td>0</td>\n",
       "      <td>0</td>\n",
       "      <td>0</td>\n",
       "      <td>0</td>\n",
       "      <td>1</td>\n",
       "      <td>0</td>\n",
       "    </tr>\n",
       "    <tr>\n",
       "      <th>59489</th>\n",
       "      <td>180512</td>\n",
       "      <td>45</td>\n",
       "      <td>0</td>\n",
       "      <td>0</td>\n",
       "      <td>0</td>\n",
       "      <td>0</td>\n",
       "      <td>0</td>\n",
       "      <td>0</td>\n",
       "      <td>1</td>\n",
       "      <td>0</td>\n",
       "      <td>0</td>\n",
       "      <td>0</td>\n",
       "      <td>0</td>\n",
       "      <td>0</td>\n",
       "      <td>0</td>\n",
       "      <td>0</td>\n",
       "      <td>0</td>\n",
       "      <td>0</td>\n",
       "      <td>0</td>\n",
       "      <td>0</td>\n",
       "      <td>0</td>\n",
       "      <td>0</td>\n",
       "      <td>0</td>\n",
       "      <td>0</td>\n",
       "      <td>0</td>\n",
       "      <td>0</td>\n",
       "      <td>0</td>\n",
       "      <td>1</td>\n",
       "    </tr>\n",
       "    <tr>\n",
       "      <th>59490</th>\n",
       "      <td>180515</td>\n",
       "      <td>45</td>\n",
       "      <td>0</td>\n",
       "      <td>0</td>\n",
       "      <td>0</td>\n",
       "      <td>0</td>\n",
       "      <td>0</td>\n",
       "      <td>0</td>\n",
       "      <td>1</td>\n",
       "      <td>0</td>\n",
       "      <td>0</td>\n",
       "      <td>0</td>\n",
       "      <td>0</td>\n",
       "      <td>0</td>\n",
       "      <td>0</td>\n",
       "      <td>0</td>\n",
       "      <td>0</td>\n",
       "      <td>0</td>\n",
       "      <td>0</td>\n",
       "      <td>0</td>\n",
       "      <td>0</td>\n",
       "      <td>0</td>\n",
       "      <td>0</td>\n",
       "      <td>0</td>\n",
       "      <td>0</td>\n",
       "      <td>0</td>\n",
       "      <td>1</td>\n",
       "      <td>0</td>\n",
       "    </tr>\n",
       "  </tbody>\n",
       "</table>\n",
       "<p>59491 rows × 28 columns</p>\n",
       "</div>"
      ],
      "text/plain": [
       "       Unnamed: 0  Category_Id  Order_Region_Caribbean  \\\n",
       "0               0           73                       0   \n",
       "1               3           73                       0   \n",
       "2               6           73                       0   \n",
       "3              13           73                       0   \n",
       "4              15           73                       0   \n",
       "...           ...          ...                     ...   \n",
       "59486      180500           45                       0   \n",
       "59487      180505           45                       0   \n",
       "59488      180508           45                       0   \n",
       "59489      180512           45                       0   \n",
       "59490      180515           45                       0   \n",
       "\n",
       "       Order_Region_Central Africa  Order_Region_Central America  \\\n",
       "0                                0                             0   \n",
       "1                                0                             0   \n",
       "2                                0                             0   \n",
       "3                                0                             0   \n",
       "4                                0                             0   \n",
       "...                            ...                           ...   \n",
       "59486                            0                             0   \n",
       "59487                            0                             0   \n",
       "59488                            0                             0   \n",
       "59489                            0                             0   \n",
       "59490                            0                             0   \n",
       "\n",
       "       Order_Region_Central Asia  Order_Region_East Africa  \\\n",
       "0                              0                         0   \n",
       "1                              0                         0   \n",
       "2                              0                         0   \n",
       "3                              0                         0   \n",
       "4                              0                         0   \n",
       "...                          ...                       ...   \n",
       "59486                          0                         0   \n",
       "59487                          0                         0   \n",
       "59488                          0                         0   \n",
       "59489                          0                         0   \n",
       "59490                          0                         0   \n",
       "\n",
       "       Order_Region_East of USA  Order_Region_Eastern Asia  \\\n",
       "0                             0                          0   \n",
       "1                             0                          0   \n",
       "2                             0                          1   \n",
       "3                             0                          0   \n",
       "4                             0                          0   \n",
       "...                         ...                        ...   \n",
       "59486                         0                          0   \n",
       "59487                         0                          1   \n",
       "59488                         0                          1   \n",
       "59489                         0                          1   \n",
       "59490                         0                          1   \n",
       "\n",
       "       Order_Region_Eastern Europe  Order_Region_North Africa  \\\n",
       "0                                0                          0   \n",
       "1                                0                          0   \n",
       "2                                0                          0   \n",
       "3                                0                          0   \n",
       "4                                0                          0   \n",
       "...                            ...                        ...   \n",
       "59486                            0                          0   \n",
       "59487                            0                          0   \n",
       "59488                            0                          0   \n",
       "59489                            0                          0   \n",
       "59490                            0                          0   \n",
       "\n",
       "       Order_Region_Northern Europe  Order_Region_Oceania  \\\n",
       "0                                 0                     0   \n",
       "1                                 0                     1   \n",
       "2                                 0                     0   \n",
       "3                                 0                     0   \n",
       "4                                 0                     0   \n",
       "...                             ...                   ...   \n",
       "59486                             0                     1   \n",
       "59487                             0                     0   \n",
       "59488                             0                     0   \n",
       "59489                             0                     0   \n",
       "59490                             0                     0   \n",
       "\n",
       "       Order_Region_South America  Order_Region_South Asia  \\\n",
       "0                               0                        0   \n",
       "1                               0                        0   \n",
       "2                               0                        0   \n",
       "3                               0                        1   \n",
       "4                               0                        1   \n",
       "...                           ...                      ...   \n",
       "59486                           0                        0   \n",
       "59487                           0                        0   \n",
       "59488                           0                        0   \n",
       "59489                           0                        0   \n",
       "59490                           0                        0   \n",
       "\n",
       "       Order_Region_South of  USA   Order_Region_Southeast Asia  \\\n",
       "0                                0                            1   \n",
       "1                                0                            0   \n",
       "2                                0                            0   \n",
       "3                                0                            0   \n",
       "4                                0                            0   \n",
       "...                            ...                          ...   \n",
       "59486                            0                            0   \n",
       "59487                            0                            0   \n",
       "59488                            0                            0   \n",
       "59489                            0                            0   \n",
       "59490                            0                            0   \n",
       "\n",
       "       Order_Region_Southern Africa  Order_Region_Southern Europe  \\\n",
       "0                                 0                             0   \n",
       "1                                 0                             0   \n",
       "2                                 0                             0   \n",
       "3                                 0                             0   \n",
       "4                                 0                             0   \n",
       "...                             ...                           ...   \n",
       "59486                             0                             0   \n",
       "59487                             0                             0   \n",
       "59488                             0                             0   \n",
       "59489                             0                             0   \n",
       "59490                             0                             0   \n",
       "\n",
       "       Order_Region_US Center   Order_Region_West Africa  \\\n",
       "0                            0                         0   \n",
       "1                            0                         0   \n",
       "2                            0                         0   \n",
       "3                            0                         0   \n",
       "4                            0                         0   \n",
       "...                        ...                       ...   \n",
       "59486                        0                         0   \n",
       "59487                        0                         0   \n",
       "59488                        0                         0   \n",
       "59489                        0                         0   \n",
       "59490                        0                         0   \n",
       "\n",
       "       Order_Region_West Asia  Order_Region_West of USA   \\\n",
       "0                           0                          0   \n",
       "1                           0                          0   \n",
       "2                           0                          0   \n",
       "3                           0                          0   \n",
       "4                           0                          0   \n",
       "...                       ...                        ...   \n",
       "59486                       0                          0   \n",
       "59487                       0                          0   \n",
       "59488                       0                          0   \n",
       "59489                       0                          0   \n",
       "59490                       0                          0   \n",
       "\n",
       "       Order_Region_Western Europe  Shipping_Mode_First Class  \\\n",
       "0                                0                          0   \n",
       "1                                0                          0   \n",
       "2                                0                          1   \n",
       "3                                0                          1   \n",
       "4                                0                          1   \n",
       "...                            ...                        ...   \n",
       "59486                            0                          0   \n",
       "59487                            0                          0   \n",
       "59488                            0                          0   \n",
       "59489                            0                          0   \n",
       "59490                            0                          0   \n",
       "\n",
       "       Shipping_Mode_Same Day  Shipping_Mode_Second Class  \\\n",
       "0                           0                           0   \n",
       "1                           0                           0   \n",
       "2                           0                           0   \n",
       "3                           0                           0   \n",
       "4                           0                           0   \n",
       "...                       ...                         ...   \n",
       "59486                       0                           0   \n",
       "59487                       0                           0   \n",
       "59488                       0                           1   \n",
       "59489                       0                           0   \n",
       "59490                       0                           1   \n",
       "\n",
       "       Shipping_Mode_Standard Class  \n",
       "0                                 1  \n",
       "1                                 1  \n",
       "2                                 0  \n",
       "3                                 0  \n",
       "4                                 0  \n",
       "...                             ...  \n",
       "59486                             1  \n",
       "59487                             1  \n",
       "59488                             0  \n",
       "59489                             1  \n",
       "59490                             0  \n",
       "\n",
       "[59491 rows x 28 columns]"
      ]
     },
     "execution_count": 67,
     "metadata": {},
     "output_type": "execute_result"
    }
   ],
   "source": [
    "X_drop = df.drop([ 'Category_Name', 'Scheduled_Days_Ship','Customer_State','Delivery_Coded','Delivery_Status','Late_delivery_risk','Actual_Ship_Days','Customer_Zipcode','Order_City','Order_Country','Order_State','Order_Status'], axis = 1)\n",
    "X_dev = pd.get_dummies(X_drop, columns = ['Shipping_Mode'])\n",
    "# One-hot encode all features in training set.\n",
    "#X = pd.get_dummies(X_dev)\n",
    "\n",
    "X_dev"
   ]
  },
  {
   "cell_type": "code",
   "execution_count": 70,
   "metadata": {},
   "outputs": [],
   "source": [
    "\n",
    "\n",
    "# Split the data - setup the answer value (y_)\n",
    "y = df['Delivery_Coded'].values.tolist()\n",
    "\n",
    "\n",
    "X = X_dev.values.tolist()\n",
    "\n",
    "features = ['Category_Name', 'Customer_State',\n",
    "       'Customer_Zipcode', 'Order_City', 'Order_Country', 'Order_State',\n",
    "       'Shipping_Mode', 'Order_Status','Delivery_Status']\n",
    "X_train, X_test, y_train, y_test = train_test_split(X, y, test_size=0.3, random_state=1)\n",
    "\n"
   ]
  },
  {
   "cell_type": "code",
   "execution_count": 7,
   "metadata": {},
   "outputs": [],
   "source": [
    "class_tree = DecisionTreeClassifier(criterion = 'gini', max_depth = 2, random_state = 1)"
   ]
  },
  {
   "cell_type": "code",
   "execution_count": 69,
   "metadata": {},
   "outputs": [
    {
     "data": {
      "text/plain": [
       "0    1\n",
       "1    1\n",
       "2    0\n",
       "3    0\n",
       "4    0\n",
       "5    0\n",
       "6    0\n",
       "7    1\n",
       "8    0\n",
       "9    0\n",
       "Name: Delivery_Coded, dtype: int64"
      ]
     },
     "execution_count": 69,
     "metadata": {},
     "output_type": "execute_result"
    }
   ],
   "source": [
    "df['Delivery_Coded'] = df['Delivery_Coded'].replace([2],[1])\n",
    "df['Delivery_Coded'][:10]"
   ]
  },
  {
   "cell_type": "code",
   "execution_count": 82,
   "metadata": {},
   "outputs": [
    {
     "data": {
      "text/plain": [
       "DecisionTreeClassifier(ccp_alpha=0.0, class_weight=None, criterion='entropy',\n",
       "                       max_depth=3, max_features=None, max_leaf_nodes=None,\n",
       "                       min_impurity_decrease=0.0, min_impurity_split=None,\n",
       "                       min_samples_leaf=1, min_samples_split=2,\n",
       "                       min_weight_fraction_leaf=0.0, presort='deprecated',\n",
       "                       random_state=1, splitter='best')"
      ]
     },
     "execution_count": 82,
     "metadata": {},
     "output_type": "execute_result"
    }
   ],
   "source": [
    "class_tree = DecisionTreeClassifier(criterion = 'entropy', max_depth = 3, random_state = 1)\n",
    "class_tree.fit(X_train, y_train)"
   ]
  },
  {
   "cell_type": "code",
   "execution_count": 83,
   "metadata": {},
   "outputs": [
    {
     "data": {
      "text/plain": [
       "Index(['Unnamed: 0', 'Category_Id', 'Order_Region_Caribbean',\n",
       "       'Order_Region_Central Africa', 'Order_Region_Central America',\n",
       "       'Order_Region_Central Asia', 'Order_Region_East Africa',\n",
       "       'Order_Region_East of USA', 'Order_Region_Eastern Asia',\n",
       "       'Order_Region_Eastern Europe', 'Order_Region_North Africa',\n",
       "       'Order_Region_Northern Europe', 'Order_Region_Oceania',\n",
       "       'Order_Region_South America', 'Order_Region_South Asia',\n",
       "       'Order_Region_South of  USA ', 'Order_Region_Southeast Asia',\n",
       "       'Order_Region_Southern Africa', 'Order_Region_Southern Europe',\n",
       "       'Order_Region_US Center ', 'Order_Region_West Africa',\n",
       "       'Order_Region_West Asia', 'Order_Region_West of USA ',\n",
       "       'Order_Region_Western Europe', 'Shipping_Mode_First Class',\n",
       "       'Shipping_Mode_Same Day', 'Shipping_Mode_Second Class',\n",
       "       'Shipping_Mode_Standard Class'],\n",
       "      dtype='object')"
      ]
     },
     "execution_count": 83,
     "metadata": {},
     "output_type": "execute_result"
    }
   ],
   "source": [
    "X_dev.columns"
   ]
  },
  {
   "cell_type": "code",
   "execution_count": 84,
   "metadata": {},
   "outputs": [
    {
     "data": {
      "image/png": "[encoded data removed]",
      "text/plain": [
       "<Figure size 720x720 with 1 Axes>"
      ]
     },
     "metadata": {
      "needs_background": "light"
     },
     "output_type": "display_data"
    }
   ],
   "source": [
    "from sklearn import tree\n",
    "\n",
    "fig, ax = plt.subplots(figsize=(10, 10))\n",
    "tree.plot_tree(class_tree, fontsize=10)\n",
    "plt.show()"
   ]
  },
  {
   "cell_type": "code",
   "execution_count": 85,
   "metadata": {},
   "outputs": [
    {
     "data": {
      "text/plain": [
       "0        1\n",
       "1        1\n",
       "2        1\n",
       "3        1\n",
       "4        0\n",
       "        ..\n",
       "17843    1\n",
       "17844    0\n",
       "17845    0\n",
       "17846    1\n",
       "17847    0\n",
       "Length: 17848, dtype: int32"
      ]
     },
     "execution_count": 85,
     "metadata": {},
     "output_type": "execute_result"
    }
   ],
   "source": [
    "# Call predict() on entr_model with X_test passed to it, and assign the result to a variable y_pred \n",
    "y_pred = class_tree.predict(X_test)\n",
    "\n",
    "# Call Series on our y_pred variable with the following: pd.Series(y_pred)\n",
    "pd.Series(y_pred)"
   ]
  },
  {
   "cell_type": "code",
   "execution_count": 86,
   "metadata": {},
   "outputs": [
    {
     "name": "stdout",
     "output_type": "stream",
     "text": [
      "Model Entropy - no max depth\n",
      "Accuracy: 0.697333034513671\n",
      "Balanced accuracy: 0.7241976291467362\n",
      "Precision score for \"Yes\" 0.7388366136498177\n",
      "Recall score for \"Yes\" 0.7241976291467362\n"
     ]
    }
   ],
   "source": [
    "# Run this block for model evaluation metrics \n",
    "print(\"Model Entropy - no max depth\")\n",
    "print(\"Accuracy:\", metrics.accuracy_score(y_test,y_pred))\n",
    "print(\"Balanced accuracy:\", metrics.balanced_accuracy_score(y_test,y_pred))\n",
    "print('Precision score for \"Yes\"' , metrics.precision_score(y_test,y_pred, average = 'macro'))\n",
    "#print('Precision score for \"No\"' , metrics.precision_score(y_test,y_pred, average = 'macro'))\n",
    "print('Recall score for \"Yes\"' , metrics.recall_score(y_test,y_pred, average = 'macro'))\n",
    "#print('Recall score for \"No\"' , metrics.recall_score(y_test,y_pred, average = 'macro'))"
   ]
  },
  {
   "cell_type": "markdown",
   "metadata": {},
   "source": [
    "## RandomForest Setup"
   ]
  },
  {
   "cell_type": "code",
   "execution_count": 87,
   "metadata": {},
   "outputs": [],
   "source": [
    "from sklearn.ensemble import RandomForestClassifier\n",
    "from sklearn.datasets import make_classification"
   ]
  },
  {
   "cell_type": "code",
   "execution_count": 88,
   "metadata": {},
   "outputs": [
    {
     "data": {
      "text/plain": [
       "0        1\n",
       "1        1\n",
       "2        1\n",
       "3        1\n",
       "4        0\n",
       "        ..\n",
       "17843    1\n",
       "17844    0\n",
       "17845    0\n",
       "17846    1\n",
       "17847    0\n",
       "Length: 17848, dtype: int32"
      ]
     },
     "execution_count": 88,
     "metadata": {},
     "output_type": "execute_result"
    }
   ],
   "source": [
    "# Plug in appropriate max_depth and random_state parameters \n",
    "firstRFModel = RandomForestClassifier(random_state = 1234, max_depth = 3)\n",
    "\n",
    "# Model and fit\n",
    "firstRFModel.fit(X_train, y_train)\n",
    "\n",
    "y_pred = firstRFModel.predict(X_test)\n",
    "\n",
    "pd.Series(y_pred)"
   ]
  },
  {
   "cell_type": "code",
   "execution_count": null,
   "metadata": {},
   "outputs": [],
   "source": []
  },
  {
   "cell_type": "code",
   "execution_count": 90,
   "metadata": {},
   "outputs": [
    {
     "name": "stdout",
     "output_type": "stream",
     "text": [
      "Random Forest  model - max depth 3\n",
      "Accuracy: 0.6951479157328552\n",
      "Balanced accuracy: 0.7141865166756138\n",
      "Precision score 0.7344484072740433\n",
      "Recall score 0.6951479157328552\n"
     ]
    }
   ],
   "source": [
    "print(\"Random Forest  model - max depth 3\")\n",
    "print(\"Accuracy:\", metrics.accuracy_score(y_test,y_pred))\n",
    "print(\"Balanced accuracy:\", metrics.balanced_accuracy_score(y_test,y_pred))\n",
    "print('Precision score' , metrics.precision_score(y_test,y_pred, average = 'weighted', pos_label = \"Yes\"))\n",
    "print('Recall score' , metrics.recall_score(y_test,y_pred, average = 'weighted', pos_label = \"No\"))"
   ]
  },
  {
   "cell_type": "markdown",
   "metadata": {},
   "source": [
    "Feature Importance Plot"
   ]
  },
  {
   "cell_type": "code",
   "execution_count": 91,
   "metadata": {},
   "outputs": [
    {
     "name": "stdout",
     "output_type": "stream",
     "text": [
      "Unnamed: 0 = 0.0961186164309657\n",
      "Category_Id = 0.00459302192773432\n",
      "Order_Region_Caribbean = 0.0031740352902221523\n",
      "Order_Region_Central Africa = 3.059235875510269e-05\n",
      "Order_Region_Central America = 0.0009829167336069195\n",
      "Order_Region_Central Asia = 3.85292732935405e-05\n",
      "Order_Region_East Africa = 1.923918487878849e-06\n",
      "Order_Region_East of USA = 0.00372069923404384\n",
      "Order_Region_Eastern Asia = 2.429113171400738e-05\n",
      "Order_Region_Eastern Europe = 0.0001198719515715665\n",
      "Order_Region_North Africa = 0.00016415835704134551\n",
      "Order_Region_Northern Europe = 5.6406269974769653e-05\n",
      "Order_Region_Oceania = 9.330200908904826e-05\n",
      "Order_Region_South America = 0.000662747197182706\n",
      "Order_Region_South Asia = 0.0008158025553986727\n",
      "Order_Region_South of  USA  = 0.001840733190690671\n",
      "Order_Region_Southeast Asia = 6.836139403828898e-05\n",
      "Order_Region_Southern Africa = 3.3875294634722277e-05\n",
      "Order_Region_Southern Europe = 0.0008991082884194921\n",
      "Order_Region_US Center  = 0.0001237728028482623\n",
      "Order_Region_West Africa = 0.0004888621010885819\n",
      "Order_Region_West Asia = 0.0007634566506281454\n",
      "Order_Region_West of USA  = 0.00011207508264177672\n",
      "Order_Region_Western Europe = 0.0006469865058661985\n",
      "Shipping_Mode_First Class = 0.38123221280990044\n",
      "Shipping_Mode_Same Day = 0.027443619074018183\n",
      "Shipping_Mode_Second Class = 0.18307406918486907\n",
      "Shipping_Mode_Standard Class = 0.2926759529812747\n"
     ]
    }
   ],
   "source": [
    "\n",
    "names = []\n",
    "importances = []\n",
    "for name, importance in zip(X_dev.columns, firstRFModel.feature_importances_):\n",
    "    print(name, '=', importance)\n",
    "    names.append(name)\n",
    "    importances.append(importance)\n",
    "  "
   ]
  },
  {
   "cell_type": "code",
   "execution_count": 51,
   "metadata": {},
   "outputs": [
    {
     "data": {
      "text/plain": [
       "<BarContainer object of 28 artists>"
      ]
     },
     "execution_count": 51,
     "metadata": {},
     "output_type": "execute_result"
    },
    {
     "data": {
      "image/png": "[encoded data removed]",
      "text/plain": [
       "<Figure size 432x288 with 1 Axes>"
      ]
     },
     "metadata": {
      "needs_background": "light"
     },
     "output_type": "display_data"
    }
   ],
   "source": [
    "plt.title('Feature Importances')\n",
    "plt.barh(names, importances, color = 'b', align = 'center')\n"
   ]
  },
  {
   "cell_type": "code",
   "execution_count": 42,
   "metadata": {},
   "outputs": [
    {
     "data": {
      "text/plain": [
       "['Unnamed: 0',\n",
       " 'Actual_Ship_Days',\n",
       " 'Scheduled_Days_Ship',\n",
       " 'Late_delivery_risk',\n",
       " 'Category_Id',\n",
       " 'Order_Region_Caribbean',\n",
       " 'Order_Region_Central Africa',\n",
       " 'Order_Region_Central America',\n",
       " 'Order_Region_Central Asia',\n",
       " 'Order_Region_East Africa',\n",
       " 'Order_Region_East of USA',\n",
       " 'Order_Region_Eastern Asia',\n",
       " 'Order_Region_Eastern Europe',\n",
       " 'Order_Region_North Africa',\n",
       " 'Order_Region_Northern Europe',\n",
       " 'Order_Region_Oceania',\n",
       " 'Order_Region_South America',\n",
       " 'Order_Region_South Asia',\n",
       " 'Order_Region_South of  USA ',\n",
       " 'Order_Region_Southeast Asia',\n",
       " 'Order_Region_Southern Africa',\n",
       " 'Order_Region_Southern Europe',\n",
       " 'Order_Region_US Center ',\n",
       " 'Order_Region_West Africa',\n",
       " 'Order_Region_West Asia',\n",
       " 'Order_Region_West of USA ',\n",
       " 'Order_Region_Western Europe',\n",
       " 'Delivery_Status_Advance shipping',\n",
       " 'Delivery_Status_Late delivery',\n",
       " 'Delivery_Status_Shipping on time',\n",
       " 'Shipping_Mode_First Class',\n",
       " 'Shipping_Mode_Same Day',\n",
       " 'Shipping_Mode_Second Class',\n",
       " 'Shipping_Mode_Standard Class']"
      ]
     },
     "execution_count": 42,
     "metadata": {},
     "output_type": "execute_result"
    }
   ],
   "source": [
    "names\n"
   ]
  },
  {
   "cell_type": "markdown",
   "metadata": {},
   "source": [
    "## Appears the Order Regions are irrelevant features for this show.\n"
   ]
  },
  {
   "cell_type": "code",
   "execution_count": 92,
   "metadata": {},
   "outputs": [],
   "source": [
    "X_dev = X_dev.drop([ 'Order_Region_Caribbean',\n",
    " 'Order_Region_Central Africa',\n",
    " 'Order_Region_Central America',\n",
    " 'Order_Region_Central Asia',\n",
    " 'Order_Region_East Africa',\n",
    " 'Order_Region_East of USA',\n",
    " 'Order_Region_Eastern Asia',\n",
    " 'Order_Region_Eastern Europe',\n",
    " 'Order_Region_North Africa',\n",
    " 'Order_Region_Northern Europe',\n",
    " 'Order_Region_Oceania',\n",
    " 'Order_Region_South America',\n",
    " 'Order_Region_South Asia',\n",
    " 'Order_Region_South of  USA ',\n",
    " 'Order_Region_Southeast Asia',\n",
    " 'Order_Region_Southern Africa',\n",
    " 'Order_Region_Southern Europe',\n",
    " 'Order_Region_US Center ',\n",
    " 'Order_Region_West Africa',\n",
    " 'Order_Region_West Asia',\n",
    " 'Order_Region_West of USA ',\n",
    " 'Order_Region_Western Europe'], axis = 1)"
   ]
  },
  {
   "cell_type": "code",
   "execution_count": null,
   "metadata": {},
   "outputs": [],
   "source": []
  },
  {
   "cell_type": "markdown",
   "metadata": {},
   "source": [
    "## Let's do this again - split and train"
   ]
  },
  {
   "cell_type": "code",
   "execution_count": 93,
   "metadata": {},
   "outputs": [],
   "source": [
    "# Split the data\n",
    "y = df['Delivery_Coded'].values.tolist()\n",
    "\n",
    "\n",
    "X = X_dev.values.tolist()\n",
    "\n",
    "features = ['Category_Name', 'Customer_State',\n",
    "       'Customer_Zipcode', 'Order_City', 'Order_Country', 'Order_State',\n",
    "       'Shipping_Mode', 'Order_Status','Delivery_Coded']\n",
    "X_train, X_test, y_train, y_test = train_test_split(X, y, test_size=0.3, random_state=1)\n",
    "\n"
   ]
  },
  {
   "cell_type": "markdown",
   "metadata": {},
   "source": [
    "## Decision Tree"
   ]
  },
  {
   "cell_type": "code",
   "execution_count": 94,
   "metadata": {},
   "outputs": [
    {
     "data": {
      "text/plain": [
       "DecisionTreeClassifier(ccp_alpha=0.0, class_weight=None, criterion='gini',\n",
       "                       max_depth=4, max_features=None, max_leaf_nodes=None,\n",
       "                       min_impurity_decrease=0.0, min_impurity_split=None,\n",
       "                       min_samples_leaf=1, min_samples_split=2,\n",
       "                       min_weight_fraction_leaf=0.0, presort='deprecated',\n",
       "                       random_state=1, splitter='best')"
      ]
     },
     "execution_count": 94,
     "metadata": {},
     "output_type": "execute_result"
    }
   ],
   "source": [
    "class_tree = DecisionTreeClassifier(criterion = 'gini', max_depth = 4, random_state = 1)\n",
    "class_tree.fit(X_train, y_train)"
   ]
  },
  {
   "cell_type": "code",
   "execution_count": 95,
   "metadata": {
    "scrolled": true
   },
   "outputs": [
    {
     "data": {
      "image/png": "[encoded data removed]",
      "text/plain": [
       "<Figure size 720x720 with 1 Axes>"
      ]
     },
     "metadata": {
      "needs_background": "light"
     },
     "output_type": "display_data"
    }
   ],
   "source": [
    "fig, ax = plt.subplots(figsize=(10, 10))\n",
    "tree.plot_tree(class_tree, fontsize=10)\n",
    "plt.show()"
   ]
  },
  {
   "cell_type": "code",
   "execution_count": 96,
   "metadata": {},
   "outputs": [
    {
     "data": {
      "text/plain": [
       "0        1\n",
       "1        1\n",
       "2        1\n",
       "3        1\n",
       "4        0\n",
       "        ..\n",
       "17843    1\n",
       "17844    0\n",
       "17845    0\n",
       "17846    1\n",
       "17847    0\n",
       "Length: 17848, dtype: int32"
      ]
     },
     "execution_count": 96,
     "metadata": {},
     "output_type": "execute_result"
    }
   ],
   "source": [
    "# Call predict() on entr_model with X_test passed to it, and assign the result to a variable y_pred \n",
    "y_pred = class_tree.predict(X_test)\n",
    "\n",
    "# Call Series on our y_pred variable with the following: pd.Series(y_pred)\n",
    "pd.Series(y_pred)"
   ]
  },
  {
   "cell_type": "code",
   "execution_count": 97,
   "metadata": {},
   "outputs": [
    {
     "name": "stdout",
     "output_type": "stream",
     "text": [
      "Model Entropy - no max depth\n",
      "Accuracy: 0.6979493500672345\n",
      "Balanced accuracy: 0.7250450490391198\n",
      "Precision score for \"Yes\" 0.7401634014319828\n",
      "Recall score for \"Yes\" 0.7250450490391198\n"
     ]
    }
   ],
   "source": [
    "# Run this block for model evaluation metrics \n",
    "print(\"Model Entropy - no max depth\")\n",
    "print(\"Accuracy:\", metrics.accuracy_score(y_test,y_pred))\n",
    "print(\"Balanced accuracy:\", metrics.balanced_accuracy_score(y_test,y_pred))\n",
    "print('Precision score for \"Yes\"' , metrics.precision_score(y_test,y_pred, average = 'macro'))\n",
    "#print('Precision score for \"No\"' , metrics.precision_score(y_test,y_pred, average = 'macro'))\n",
    "print('Recall score for \"Yes\"' , metrics.recall_score(y_test,y_pred, average = 'macro'))\n",
    "#print('Recall score for \"No\"' , metrics.recall_score(y_test,y_pred, average = 'macro'))"
   ]
  },
  {
   "cell_type": "markdown",
   "metadata": {},
   "source": [
    "## RandomForest Repeat"
   ]
  },
  {
   "cell_type": "code",
   "execution_count": 98,
   "metadata": {},
   "outputs": [
    {
     "data": {
      "text/plain": [
       "0        1\n",
       "1        1\n",
       "2        1\n",
       "3        1\n",
       "4        0\n",
       "        ..\n",
       "17843    1\n",
       "17844    0\n",
       "17845    0\n",
       "17846    1\n",
       "17847    0\n",
       "Length: 17848, dtype: int32"
      ]
     },
     "execution_count": 98,
     "metadata": {},
     "output_type": "execute_result"
    }
   ],
   "source": [
    "# Plug in appropriate max_depth and random_state parameters \n",
    "firstRFModel = RandomForestClassifier(random_state = 1234, max_depth = 3)\n",
    "\n",
    "# Model and fit\n",
    "firstRFModel.fit(X_train, y_train)\n",
    "\n",
    "y_pred = firstRFModel.predict(X_test)\n",
    "\n",
    "pd.Series(y_pred)"
   ]
  },
  {
   "cell_type": "code",
   "execution_count": 99,
   "metadata": {},
   "outputs": [
    {
     "name": "stdout",
     "output_type": "stream",
     "text": [
      "Random Forest  model - max depth 3\n",
      "Accuracy: 0.6952039444195428\n",
      "Balanced accuracy: 0.714252523276274\n",
      "Precision score 0.7345305115284538\n",
      "Recall score 0.6952039444195428\n"
     ]
    },
    {
     "name": "stderr",
     "output_type": "stream",
     "text": [
      "O:\\Users\\Joe\\anaconda3\\lib\\site-packages\\sklearn\\metrics\\_classification.py:1321: UserWarning: Note that pos_label (set to 'Yes') is ignored when average != 'binary' (got 'weighted'). You may use labels=[pos_label] to specify a single positive class.\n",
      "  % (pos_label, average), UserWarning)\n",
      "O:\\Users\\Joe\\anaconda3\\lib\\site-packages\\sklearn\\metrics\\_classification.py:1321: UserWarning: Note that pos_label (set to 'No') is ignored when average != 'binary' (got 'weighted'). You may use labels=[pos_label] to specify a single positive class.\n",
      "  % (pos_label, average), UserWarning)\n"
     ]
    },
    {
     "data": {
      "text/plain": [
       "<matplotlib.axes._subplots.AxesSubplot at 0x245124c5888>"
      ]
     },
     "execution_count": 99,
     "metadata": {},
     "output_type": "execute_result"
    },
    {
     "data": {
      "image/png": "[encoded data removed]",
      "text/plain": [
       "<Figure size 432x288 with 2 Axes>"
      ]
     },
     "metadata": {
      "needs_background": "light"
     },
     "output_type": "display_data"
    }
   ],
   "source": [
    "print(\"Random Forest  model - max depth 3\")\n",
    "print(\"Accuracy:\", metrics.accuracy_score(y_test,y_pred))\n",
    "print(\"Balanced accuracy:\", metrics.balanced_accuracy_score(y_test,y_pred))\n",
    "print('Precision score' , metrics.precision_score(y_test,y_pred, average = 'weighted', pos_label = \"Yes\"))\n",
    "print('Recall score' , metrics.recall_score(y_test,y_pred, average = 'weighted', pos_label = \"No\"))\n",
    "confusion_matrix = pd.crosstab(np.array(y_test), np.array( y_pred), rownames = ['Actual'], colnames = ['Predicted'])\n",
    "sns.heatmap(confusion_matrix, annot=True)"
   ]
  },
  {
   "cell_type": "markdown",
   "metadata": {},
   "source": [
    "### Logistic Regression"
   ]
  },
  {
   "cell_type": "code",
   "execution_count": 100,
   "metadata": {},
   "outputs": [],
   "source": [
    "from sklearn.linear_model import LogisticRegression"
   ]
  },
  {
   "cell_type": "code",
   "execution_count": 101,
   "metadata": {},
   "outputs": [],
   "source": [
    "lreg = LogisticRegression(max_iter = 10000)\n",
    "lreg.fit(X_train, y_train)\n",
    "y_pred = lreg.predict(X_test)"
   ]
  },
  {
   "cell_type": "code",
   "execution_count": 102,
   "metadata": {},
   "outputs": [
    {
     "data": {
      "text/plain": [
       "<matplotlib.axes._subplots.AxesSubplot at 0x24511b6cf88>"
      ]
     },
     "execution_count": 102,
     "metadata": {},
     "output_type": "execute_result"
    },
    {
     "data": {
      "image/png": "[encoded data removed]",
      "text/plain": [
       "<Figure size 432x288 with 2 Axes>"
      ]
     },
     "metadata": {
      "needs_background": "light"
     },
     "output_type": "display_data"
    }
   ],
   "source": [
    "confusion_matrix = pd.crosstab(np.array(y_test), np.array( y_pred), rownames = ['Actual'], colnames = ['Predicted'])\n",
    "sns.heatmap(confusion_matrix, annot=True)"
   ]
  },
  {
   "cell_type": "code",
   "execution_count": 103,
   "metadata": {},
   "outputs": [
    {
     "name": "stdout",
     "output_type": "stream",
     "text": [
      "Accuracy:  0.5755826983415508\n"
     ]
    }
   ],
   "source": [
    "print('Accuracy: ',metrics.accuracy_score(y_test, y_pred))\n",
    "#print('Precision: ' , metrics.precision_score(y_test,y_pred, average = 'macro'))\n",
    "#print('Recall: ' , metrics.recall_score(y_test,y_pred, average = 'macro'))\n",
    "plt.show()"
   ]
  },
  {
   "cell_type": "code",
   "execution_count": 104,
   "metadata": {},
   "outputs": [
    {
     "name": "stdout",
     "output_type": "stream",
     "text": [
      "Unnamed: 0 = 0.021345531758906414\n",
      "Category_Id = 0.00134560122947917\n",
      "Shipping_Mode_First Class = 0.3810781036270907\n",
      "Shipping_Mode_Same Day = 0.03418354838676454\n",
      "Shipping_Mode_Second Class = 0.12418496156030752\n",
      "Shipping_Mode_Standard Class = 0.4378622534374516\n"
     ]
    }
   ],
   "source": [
    "## Check Feature Importance again.\n",
    "names = []\n",
    "importances = []\n",
    "for name, importance in zip(X_dev.columns, firstRFModel.feature_importances_):\n",
    "    print(name, '=', importance)\n",
    "    names.append(name)\n",
    "    importances.append(importance)"
   ]
  },
  {
   "cell_type": "code",
   "execution_count": null,
   "metadata": {},
   "outputs": [],
   "source": []
  },
  {
   "cell_type": "code",
   "execution_count": null,
   "metadata": {},
   "outputs": [],
   "source": []
  },
  {
   "cell_type": "code",
   "execution_count": null,
   "metadata": {},
   "outputs": [],
   "source": []
  }
 ],
 "metadata": {
  "kernelspec": {
   "display_name": "Python 3",
   "language": "python",
   "name": "python3"
  },
  "language_info": {
   "codemirror_mode": {
    "name": "ipython",
    "version": 3
   },
   "file_extension": ".py",
   "mimetype": "text/x-python",
   "name": "python",
   "nbconvert_exporter": "python",
   "pygments_lexer": "ipython3",
   "version": "3.7.6"
  }
 },
 "nbformat": 4,
 "nbformat_minor": 4
}
